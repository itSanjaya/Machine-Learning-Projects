{
 "cells": [
  {
   "cell_type": "markdown",
   "metadata": {},
   "source": [
    "# Introduction\n",
    "Image classification is the process of taking an input (like a picture) and outputting a class (like “cat”) or a probability that the input is a particular class (“there’s a 90% probability that this input is a cat”). You can look at a picture and know that you’re looking at a terrible shot of your own face, but how can a computer learn to do that? With a convolutional neural network!"
   ]
  },
  {
   "cell_type": "markdown",
   "metadata": {},
   "source": [
    "-----\n",
    "# Goals\n",
    "We would like you to establish a neural network involving advanced DNN modules (i.e. convolution layers, RELU, pooling and fully connection layers and etc.) to distinguish the specific category of an input image."
   ]
  },
  {
   "cell_type": "markdown",
   "metadata": {},
   "source": [
    "-------------\n",
    "## Packages\n",
    "Let's first import the necessary packages,"
   ]
  },
  {
   "cell_type": "code",
   "execution_count": 1,
   "metadata": {},
   "outputs": [],
   "source": [
    "from __future__ import division\n",
    "\n",
    "import warnings\n",
    "from collections import namedtuple\n",
    "import torch\n",
    "import torch.nn as nn\n",
    "from torch.jit.annotations import Optional, Tuple\n",
    "from torch import Tensor\n",
    "import os\n",
    "import numpy as np\n",
    "import os.path\n",
    "from glob import glob\n",
    "from PIL import Image\n",
    "from tqdm import tqdm\n",
    "import torchvision.datasets as dset\n",
    "import torch.utils.data as data\n",
    "from ipywidgets import IntProgress\n",
    "from torchvision import transforms\n",
    "from matplotlib import pyplot as plt\n",
    "import warnings\n",
    "warnings.filterwarnings('ignore')"
   ]
  },
  {
   "cell_type": "markdown",
   "metadata": {},
   "source": [
    "-----\n",
    "## GPU Device Configuration\n",
    "Use the torch.device() and torch.cuda.is_available() functions to make sure you can use the GPU"
   ]
  },
  {
   "cell_type": "code",
   "execution_count": 2,
   "metadata": {},
   "outputs": [
    {
     "name": "stdout",
     "output_type": "stream",
     "text": [
      "cuda\n"
     ]
    }
   ],
   "source": [
    "if torch.cuda.is_available():\n",
    "    device = torch.device('cuda')\n",
    "else: \n",
    "    device = 'cpu'\n",
    "print(device)"
   ]
  },
  {
   "cell_type": "markdown",
   "metadata": {},
   "source": [
    "-----\n",
    "## Configuration\n",
    "### hyperparameters\n",
    "We then set up the hyper parameters.\n",
    "we need to define several hyper parameters for our model:\n",
    "1. learning rate\n",
    "2. batch size when training\n",
    "3. batch size when testing\n",
    "4. number of epochs"
   ]
  },
  {
   "cell_type": "code",
   "execution_count": 3,
   "metadata": {},
   "outputs": [],
   "source": [
    "learningRate = 0.0002\n",
    "\n",
    "numOfEpoch = 30\n",
    "\n",
    "trainBatchSize = 32\n",
    "\n",
    "testBatchSize = 32"
   ]
  },
  {
   "cell_type": "markdown",
   "metadata": {},
   "source": [
    "Create a directory if it does not exist\n",
    "you can use os.path.exists() to check whether it exists and using os.makedirs to create a directory."
   ]
  },
  {
   "cell_type": "markdown",
   "metadata": {},
   "source": [
    "-----\n",
    "###  Image processing\n",
    "Then, we define an image preprocessing object that our dataloader will use to preprocess our data. We use the pytorch API to preform the data processing.\n",
    "1. Use transforms.Compose()\n",
    "2. Use .RandomHorizontalFlip()\n",
    "3. You add any extra transforms you like.\n",
    "4. Create this transform for both the train set and test set. Note that for the test, we do not require any transform"
   ]
  },
  {
   "cell_type": "code",
   "execution_count": 4,
   "metadata": {},
   "outputs": [],
   "source": [
    "train_transform = transforms.Compose([transforms.RandomHorizontalFlip(), transforms.ToTensor()])\n",
    "test_transform = transforms.Compose([transforms.ToTensor()])"
   ]
  },
  {
   "cell_type": "markdown",
   "metadata": {},
   "source": [
    "-----\n",
    "### We then download and prepare the data with the transforms defined above:\n",
    "1. Use command torchvision.datasets.CIFAR10() with root, train, download and transform positional arguments.\n",
    "2. Use the same command to create both train split and test split.\n",
    "3. Use torch.utils.data.DataLoader() to create the data loader based on the data we have.\n",
    "3. Use this command for both the training split data loader and test split data loader"
   ]
  },
  {
   "cell_type": "code",
   "execution_count": 5,
   "metadata": {},
   "outputs": [
    {
     "name": "stdout",
     "output_type": "stream",
     "text": [
      "Files already downloaded and verified\n",
      "Files already downloaded and verified\n"
     ]
    }
   ],
   "source": [
    "train_set = dset.CIFAR10(root='./data', train=True, download=True, transform=train_transform)\n",
    "train_loader = data.DataLoader(dataset=train_set, batch_size=trainBatchSize, shuffle=True)\n",
    "test_set = dset.CIFAR10(root='./data', train=False, download=True, transform=test_transform)\n",
    "test_loader = data.DataLoader(dataset=test_set, batch_size=testBatchSize, shuffle=False)"
   ]
  },
  {
   "cell_type": "markdown",
   "metadata": {},
   "source": [
    "------\n",
    "### Inception Module with dimension reductions\n",
    "1. Create a python class called Inception which inherits nn.module\n",
    "\n",
    "2. Create a init function to init this python class\n",
    "    1. Require in_planes, kernel_1_x, kernel_3_in, kernel_3_x, kernel_5_in, kernel_5_x and pool_planes 7 arguments.\n",
    "    \n",
    "    2. There are 4 Sequential blocks: b1,b2,b3,b4\n",
    "    \n",
    "    3. b1 is a block that consists of 2D convolution, a 2D batch normalization layer and a ReLU activation function\n",
    "    \n",
    "    4. b2 is a block that consists of two 2D convolutions, two 2D batch normalization layers and two ReLU activation functions\n",
    "    \n",
    "    5. b3 is a block that consists of two 2D convolutions, two 2D batch normalization layers and two ReLU activation functions\n",
    "    \n",
    "    6. b4 is a block consists of a Maxpooling layer, a 2D convolution, a 2D batch normalization layer and a ReLU activation function\n",
    "    \n",
    "3. Create the forward function: the forward function will forward the input function though every block and return the concatenation of all the output."
   ]
  },
  {
   "cell_type": "code",
   "execution_count": 6,
   "metadata": {},
   "outputs": [],
   "source": [
    "class Inception(nn.Module):\n",
    "    def __init__(self, in_planes, kernel_1_x, kernel_3_in, kernel_3_x, kernel_5_in, kernel_5_x, pool_planes):\n",
    "        super(Inception, self).__init__()\n",
    "        # 1x1 conv branch\n",
    "        self.b1 = nn.Sequential(\n",
    "            nn.Conv2d(in_planes, kernel_1_x, kernel_size=1),\n",
    "            nn.BatchNorm2d(kernel_1_x),\n",
    "            nn.ReLU(True),\n",
    "        )\n",
    "\n",
    "        # 1x1 conv -> 3x3 conv branch\n",
    "        self.b2 = nn.Sequential(\n",
    "            nn.Conv2d(in_planes, kernel_3_in, kernel_size=1),\n",
    "            nn.BatchNorm2d(kernel_3_in),\n",
    "            nn.ReLU(inplace=True),\n",
    "            nn.Conv2d(kernel_3_in, kernel_3_x, kernel_size=3, padding=1),\n",
    "            nn.BatchNorm2d(kernel_3_x),\n",
    "            nn.ReLU(inplace=True),\n",
    "        )\n",
    "\n",
    "\n",
    "        # 1x1 conv -> 5x5 conv branch\n",
    "        self.b3 = nn.Sequential(\n",
    "            nn.Conv2d(in_planes,kernel_5_in, kernel_size=1),\n",
    "            nn.BatchNorm2d(kernel_5_in),\n",
    "            nn.ReLU(inplace=True),\n",
    "            nn.Conv2d(kernel_5_in, kernel_5_x, kernel_size=5, padding=2),\n",
    "            nn.BatchNorm2d(kernel_5_x),\n",
    "            nn.ReLU(inplace=True),\n",
    "        )         \n",
    "\n",
    "        # 3x3 max pool -> 1x1 conv branch\n",
    "        self.b4 = nn.Sequential(\n",
    "            nn.MaxPool2d(kernel_size=3, stride=1, padding=1),\n",
    "            nn.Conv2d(in_planes, pool_planes, kernel_size=1),\n",
    "            nn.BatchNorm2d(pool_planes),\n",
    "            nn.ReLU(inplace=True),\n",
    "        )       \n",
    "\n",
    "    #def forward(self, x):\n",
    "    def forward(self,x):\n",
    "        y1 = self.b1(x) \n",
    "        y2 = self.b2(x) \n",
    "        y3 = self.b3(x) \n",
    "        y4 = self.b4(x) \n",
    "        return torch.cat([y1,y2,y3,y4], 1)    \n"
   ]
  },
  {
   "cell_type": "markdown",
   "metadata": {},
   "source": [
    "-----\n",
    "### GoogLeNet Module: the structure is in the lab manual"
   ]
  },
  {
   "cell_type": "code",
   "execution_count": 7,
   "metadata": {},
   "outputs": [],
   "source": [
    "class GoogLeNet(nn.Module):\n",
    "    def __init__(self):\n",
    "        super(GoogLeNet, self).__init__()\n",
    "        \n",
    "        \n",
    "        self.initial = nn.Sequential(\n",
    "            nn.Conv2d(in_channels=3, out_channels=192, kernel_size=3, padding=1),\n",
    "            nn.BatchNorm2d(num_features = 192),\n",
    "            nn.ReLU(True),\n",
    "        )\n",
    "        \n",
    "        \n",
    "        # Two Inception blocks\n",
    "        self.inception1 = Inception(192, 64, 96, 128, 16, 32, 32)\n",
    "        self.inception2 = Inception(256, 128, 128, 192, 32, 96, 64)\n",
    "        \n",
    "        \n",
    "        # Maxpooling layer\n",
    "        self.maxpool1 = nn.MaxPool2d(kernel_size=3, stride=2, padding=1)\n",
    "        \n",
    "        \n",
    "        # Five Inception blocks\n",
    "        self.inception3 = Inception(480, 192, 96, 208, 16, 48, 64)\n",
    "        self.inception4 = Inception(512, 160, 112, 224, 24, 64, 64)\n",
    "        self.inception5 = Inception(512, 128, 128, 256, 24, 64, 64)\n",
    "        self.inception6 = Inception(512, 112, 144, 288, 32, 64, 64)\n",
    "        self.inception7 = Inception(528, 256, 160, 320, 32, 128, 128)\n",
    "        \n",
    "        \n",
    "        # Maxpooling layer\n",
    "        self.maxpool2 = nn.MaxPool2d(kernel_size=3, stride=2, padding=1)\n",
    "        \n",
    "        \n",
    "        # Two Inception blocks\n",
    "        self.inception8 = Inception(832, 256, 160, 320, 32, 128, 128)\n",
    "        self.inception9 = Inception(832, 384, 192, 384, 48, 128, 128)\n",
    "        \n",
    "        \n",
    "        # Average Pooling layer\n",
    "        self.avgpool = nn.AvgPool2d(kernel_size=8, stride=1, padding=0)\n",
    "        \n",
    "        \n",
    "        # Fully connected/ Linear layer\n",
    "        self.fc = nn.Linear(in_features=1024, out_features=10)\n",
    "        \n",
    "        \n",
    "    # this forward function will forward the input function though every block and return the output\n",
    "    def forward(self, x):\n",
    "        \n",
    "        x = self.initial(x)\n",
    "        \n",
    "        x = self.inception1(x)\n",
    "        x = self.inception2(x)\n",
    "        \n",
    "        x = self.maxpool1(x)\n",
    "        \n",
    "        x = self.inception3(x)\n",
    "        x = self.inception4(x)\n",
    "        x = self.inception5(x)\n",
    "        x = self.inception6(x)\n",
    "        x = self.inception7(x)\n",
    "        \n",
    "        x = self.maxpool2(x)\n",
    "        \n",
    "        x = self.inception8(x)\n",
    "        x = self.inception9(x)\n",
    "        \n",
    "        x = self.avgpool(x)\n",
    "        x = torch.flatten(x,1)\n",
    "        \n",
    "        x = self.fc(x)\n",
    "        \n",
    "        return x\n",
    "    "
   ]
  },
  {
   "cell_type": "markdown",
   "metadata": {},
   "source": [
    "### Next, we create the network and send it to the target device"
   ]
  },
  {
   "cell_type": "code",
   "execution_count": 8,
   "metadata": {},
   "outputs": [],
   "source": [
    "model = GoogLeNet()\n",
    "\n",
    "model = model.to(device)"
   ]
  },
  {
   "cell_type": "markdown",
   "metadata": {},
   "source": [
    "### Finally, we create:\n",
    " 1. An optimizer  (we use adam optimzer here)\n",
    " 2. A Criterion (CrossEntropy) function\n",
    " 3. A Scheduler which decays the learning rate of each parameter group by gamma once the number of epoch reaches one of the milestones."
   ]
  },
  {
   "cell_type": "code",
   "execution_count": 9,
   "metadata": {},
   "outputs": [],
   "source": [
    "optimizer = torch.optim.Adam(model.parameters(), lr=learningRate)\n",
    "\n",
    "criterion = nn.CrossEntropyLoss()\n",
    "\n",
    "scheduler = torch.optim.lr_scheduler.MultiStepLR(optimizer, milestones=[50, 100], gamma=0.1, verbose=False)"
   ]
  },
  {
   "cell_type": "markdown",
   "metadata": {},
   "source": [
    "-----\n",
    "##  Training\n",
    "Then, we are going to train our Network\n",
    "\n",
    "1. Set our network to the training mode.\n",
    "2. Initialize the train loss, total data size, and number corrected predictions. \n",
    "3. For each data in the training split\n",
    "    1. Put the data to the correct devices using .to()\n",
    "    2. Reset the gradient of the optimzier.\n",
    "    3. Feed the data forward to the google net\n",
    "    4. Use the criterion function to compute the loss term\n",
    "    5. Backpropagate the loss\n",
    "    6. Update the network parameters using the optimizier\n",
    "    7. Accumulate the training loss\n",
    "    8. Find the prediction. hint: using torch.max()\n",
    "    9. Increment the total_data size\n",
    "    10. Increment the corrected prediction\n",
    "    11. Print log\n",
    "    \n",
    "-----\n",
    "##  Testing\n",
    "Then, we are going to test our module\n",
    "\n",
    "1. Set our network to the test model.\n",
    "2. Initialize the test loss, total data size, and number corrected predictions. \n",
    "3. For each data in the training split, we warp it using torch.no_grad()\n",
    "    1. Put the data to the correct devices using .to()\n",
    "    2. Feed the data forward to the google net\n",
    "    3. Use the criterion function to compute the loss term\n",
    "    4. Accumulate the training loss\n",
    "    5. Find the prediciton. hint: using torch.max()\n",
    "    6. Increment the data size\n",
    "    7. Increment the corrected prediction\n",
    "    8. Print log\n",
    "\n",
    "-----\n",
    "##  Epochs:\n",
    "For each epoch:\n",
    "1. Step the scheduler\n",
    "2. Train the model\n",
    "3. Test our model\n",
    "4. Update the accuracies\n",
    "5. Save the module at the end and print the accuracy"
   ]
  },
  {
   "cell_type": "code",
   "execution_count": 10,
   "metadata": {},
   "outputs": [
    {
     "name": "stdout",
     "output_type": "stream",
     "text": [
      "Epoch 1, Loss: train:1.0887, test:0.9060 | Accuracy: train: 61.07%, test:69.03%\n",
      "Epoch 2, Loss: train:0.6343, test:0.5807 | Accuracy: train: 78.00%, test:79.61%\n",
      "Epoch 3, Loss: train:0.4840, test:0.4758 | Accuracy: train: 83.40%, test:83.59%\n",
      "Epoch 4, Loss: train:0.3920, test:0.4274 | Accuracy: train: 86.58%, test:85.40%\n",
      "Epoch 5, Loss: train:0.3308, test:0.3661 | Accuracy: train: 88.54%, test:87.44%\n",
      "Epoch 6, Loss: train:0.2820, test:0.3856 | Accuracy: train: 90.48%, test:86.75%\n",
      "Epoch 7, Loss: train:0.2394, test:0.3401 | Accuracy: train: 91.83%, test:88.55%\n",
      "Epoch 8, Loss: train:0.2113, test:0.3226 | Accuracy: train: 92.73%, test:89.25%\n",
      "Epoch 9, Loss: train:0.1816, test:0.3183 | Accuracy: train: 93.69%, test:89.62%\n",
      "Epoch 10, Loss: train:0.1574, test:0.3398 | Accuracy: train: 94.43%, test:89.20%\n",
      "Epoch 11, Loss: train:0.1407, test:0.3178 | Accuracy: train: 95.15%, test:89.97%\n",
      "Epoch 12, Loss: train:0.1281, test:0.3422 | Accuracy: train: 95.48%, test:89.84%\n",
      "Epoch 13, Loss: train:0.1167, test:0.3489 | Accuracy: train: 96.02%, test:89.49%\n",
      "Epoch 14, Loss: train:0.1003, test:0.2996 | Accuracy: train: 96.48%, test:90.95%\n",
      "Epoch 15, Loss: train:0.0908, test:0.3302 | Accuracy: train: 96.81%, test:90.25%\n",
      "Epoch 16, Loss: train:0.0876, test:0.2953 | Accuracy: train: 97.02%, test:91.07%\n",
      "Epoch 17, Loss: train:0.0822, test:0.3746 | Accuracy: train: 97.16%, test:89.85%\n",
      "Epoch 18, Loss: train:0.0749, test:0.3263 | Accuracy: train: 97.37%, test:90.93%\n",
      "Epoch 19, Loss: train:0.0662, test:0.3300 | Accuracy: train: 97.64%, test:90.82%\n",
      "Epoch 20, Loss: train:0.0622, test:0.3482 | Accuracy: train: 97.83%, test:90.77%\n",
      "Epoch 21, Loss: train:0.0619, test:0.3355 | Accuracy: train: 97.87%, test:91.05%\n",
      "Epoch 22, Loss: train:0.0545, test:0.3568 | Accuracy: train: 98.13%, test:90.83%\n",
      "Epoch 23, Loss: train:0.0543, test:0.3340 | Accuracy: train: 98.13%, test:91.20%\n",
      "Epoch 24, Loss: train:0.0487, test:0.3310 | Accuracy: train: 98.31%, test:91.33%\n",
      "Epoch 25, Loss: train:0.0494, test:0.3336 | Accuracy: train: 98.27%, test:91.68%\n",
      "Epoch 26, Loss: train:0.0485, test:0.3504 | Accuracy: train: 98.28%, test:91.36%\n",
      "Epoch 27, Loss: train:0.0441, test:0.3551 | Accuracy: train: 98.52%, test:91.26%\n",
      "Epoch 28, Loss: train:0.0424, test:0.4050 | Accuracy: train: 98.50%, test:90.42%\n",
      "Epoch 29, Loss: train:0.0418, test:0.3401 | Accuracy: train: 98.61%, test:91.42%\n",
      "Epoch 30, Loss: train:0.0397, test:0.3936 | Accuracy: train: 98.59%, test:90.91%\n"
     ]
    }
   ],
   "source": [
    "def train(model, criterion, optimizer, train_loader, scheduler):\n",
    "    model.train()\n",
    "    train_loss = 0\n",
    "    total = 0\n",
    "    correct = 0\n",
    "\n",
    "    for data, labels in train_loader:\n",
    "        data, labels = data.to(device), labels.to(device)\n",
    "        optimizer.zero_grad()\n",
    "        outputs = model.forward(data)\n",
    "        loss = criterion(outputs, labels)\n",
    "        loss.backward()\n",
    "        optimizer.step()\n",
    "        \n",
    "        train_loss += loss.item()\n",
    "        _, predicted = torch.max(outputs.data, 1)\n",
    "        total += labels.size(0)\n",
    "        correct += (predicted == labels).sum().item()\n",
    "\n",
    "    train_loss /= len(train_loader)\n",
    "    train_accuracy = correct / total\n",
    "\n",
    "    return train_loss, train_accuracy\n",
    "\n",
    "def test(model, criterion, test_loader):\n",
    "    model.eval()\n",
    "    test_loss = 0\n",
    "    total = 0\n",
    "    correct = 0\n",
    "\n",
    "    with torch.no_grad():\n",
    "        for data, labels in test_loader:\n",
    "            data, labels = data.to(device), labels.to(device)\n",
    "            outputs = model.forward(data)\n",
    "            loss = criterion(outputs, labels)\n",
    "            test_loss += loss.item()\n",
    "            _, predicted = torch.max(outputs.data, 1)\n",
    "            total += labels.size(0)\n",
    "            correct += (predicted == labels).sum().item()\n",
    "\n",
    "    test_loss /= len(test_loader)\n",
    "    test_accuracy = correct / total\n",
    "\n",
    "    return test_loss, test_accuracy\n",
    "\n",
    "train_losses = []\n",
    "test_losses = []\n",
    "train_accuracies = []\n",
    "test_accuracies = []\n",
    "\n",
    "for epoch in range(numOfEpoch):\n",
    "    \n",
    "    scheduler.step()\n",
    "    \n",
    "    train_loss, train_accuracy = train(model, criterion, optimizer, train_loader, scheduler)\n",
    "    test_loss, test_accuracy = test(model, criterion, test_loader)\n",
    "    \n",
    "    train_losses.append(train_loss)\n",
    "    test_losses.append(test_loss)\n",
    "    \n",
    "    train_accuracies.append(train_accuracy)\n",
    "    test_accuracies.append(test_accuracy)\n",
    "\n",
    "    print('Epoch {}, Loss: train:{:.4f}, test:{:.4f} | Accuracy: train: {:.2f}%, test:{:.2f}%'.format(epoch + 1, train_loss, test_loss, 100 * train_accuracy, 100 * test_accuracy))\n",
    "    "
   ]
  },
  {
   "cell_type": "code",
   "execution_count": 11,
   "metadata": {},
   "outputs": [
    {
     "data": {
      "image/png": "[encoded data removed]",
      "text/plain": [
       "<Figure size 1152x432 with 2 Axes>"
      ]
     },
     "metadata": {
      "needs_background": "light"
     },
     "output_type": "display_data"
    }
   ],
   "source": [
    "fig, (ax1, ax2) = plt.subplots(1, 2, figsize=(16,6))\n",
    "fig.suptitle('Graphs')\n",
    "\n",
    "ax1.plot(train_losses, label='train')\n",
    "ax1.plot(test_losses, label='test')\n",
    "ax1.set_title('Loss')\n",
    "ax1.legend()\n",
    "\n",
    "ax2.plot(train_accuracies, label='train')\n",
    "ax2.plot(test_accuracies, label='test')\n",
    "ax2.set_title('Accuracy')\n",
    "ax2.legend()\n",
    "\n",
    "plt.show()"
   ]
  }
 ],
 "metadata": {
  "kernelspec": {
   "display_name": "Python 3 (ipykernel)",
   "language": "python",
   "name": "python3"
  },
  "language_info": {
   "codemirror_mode": {
    "name": "ipython",
    "version": 3
   },
   "file_extension": ".py",
   "mimetype": "text/x-python",
   "name": "python",
   "nbconvert_exporter": "python",
   "pygments_lexer": "ipython3",
   "version": "3.9.12"
  }
 },
 "nbformat": 4,
 "nbformat_minor": 2
}
