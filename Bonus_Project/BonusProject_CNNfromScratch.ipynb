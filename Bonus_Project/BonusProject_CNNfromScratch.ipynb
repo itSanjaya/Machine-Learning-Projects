{
 "cells": [
  {
   "cell_type": "markdown",
   "id": "0b1ecf84",
   "metadata": {},
   "source": [
    "CNN Architecture\n",
    "\n",
    "1. Input Layer: 28x28 grayscale image\n",
    "2. First CNN Layer: 2 neurons with kernel size 3x3, stride 1, and Sigmoid activation (Other activations like ReLu and Tanh)\n",
    "3. Average Pooling Layer with pool size 2x2 and stride 2\n",
    "4. Flatten the output from the average pooling layer\n",
    "5. 1x1 Convolution Layer with 10 output channels\n",
    "6. Softmax Activation\n",
    "\n",
    "The dimensions calculations is shown below:\n",
    "\n",
    "Image (28 x 28) ----> Applying filter of (3 x 3 x 2) with a bias ----> Feature Map (26 x 26 x 2) ----> Applying Sigmoid----> Feature Map (26 x 26 x 2) ----> Average pooling (with height = width = 2, stride = 2) ----> Reduced dimension Image (13 x 13 x 2) ----> Flattenning ----> 338 x 1 -----> Fully Connected layer (with 10 neurons) ----> Ten output (one hot encoded outputs)"
   ]
  },
  {
   "cell_type": "code",
   "execution_count": 1,
   "id": "8b49976f",
   "metadata": {},
   "outputs": [
    {
     "name": "stderr",
     "output_type": "stream",
     "text": [
      "2024-05-14 22:37:43.790149: I tensorflow/core/platform/cpu_feature_guard.cc:182] This TensorFlow binary is optimized to use available CPU instructions in performance-critical operations.\n",
      "To enable the following instructions: SSE4.1 SSE4.2 AVX AVX2 FMA, in other operations, rebuild TensorFlow with the appropriate compiler flags.\n"
     ]
    }
   ],
   "source": [
    "#Import Libraries\n",
    "import numpy as np\n",
    "import matplotlib.pyplot as plt\n",
    "from tensorflow.keras.datasets import mnist"
   ]
  },
  {
   "cell_type": "markdown",
   "id": "6f83c1d2-3856-4cf6-b00d-30920abc26bd",
   "metadata": {},
   "source": [
    "# Data PreProcessing"
   ]
  },
  {
   "cell_type": "code",
   "execution_count": 2,
   "id": "04fa2ce7",
   "metadata": {},
   "outputs": [],
   "source": [
    "# Function to load the dataset and normalize pixel values between 0 and 1\n",
    "def load_data():\n",
    "    (images_train, labels_train), (images_test, labels_test) = mnist.load_data()\n",
    "    images_train = images_train.astype('float32') / 255.0\n",
    "    images_test = images_test.astype('float32') / 255.0\n",
    "    return (images_train, labels_train), (images_test, labels_test)\n",
    "\n",
    "\n",
    "# Function to visualize the image \n",
    "def display_images(images, labels, num_images=5):\n",
    "    plt.figure(figsize=(10, 10))\n",
    "    for i in range(num_images):\n",
    "        plt.subplot(5, 5, i + 1)\n",
    "        plt.imshow(images[i], cmap=plt.cm.binary)\n",
    "        plt.xlabel(labels[i])\n",
    "    plt.show()"
   ]
  },
  {
   "cell_type": "code",
   "execution_count": 3,
   "id": "0900ea17",
   "metadata": {},
   "outputs": [
    {
     "name": "stdout",
     "output_type": "stream",
     "text": [
      "\n",
      "Dataset Information:\n",
      "Shape of Training Data: (60000, 28, 28)\n",
      "Shape of Training Labels: (60000, 1)\n",
      "Shape of Test Data: (10000, 28, 28)\n",
      "Shape of Test Labels: (10000, 1)\n",
      "Shape of Each Image:  (28, 28)\n"
     ]
    },
    {
     "data": {
      "image/png": "[encoded data removed]",
      "text/plain": [
       "<Figure size 1000x1000 with 10 Axes>"
      ]
     },
     "metadata": {},
     "output_type": "display_data"
    }
   ],
   "source": [
    "# Load and preprocess the MNIST dataset\n",
    "(X_train, y_train), (X_test, y_test) = load_data()\n",
    "\n",
    "#Reshaping to numpy\n",
    "y_train = y_train.reshape(-1,1)\n",
    "y_test = y_test.reshape(-1,1)\n",
    "\n",
    "print(\"\\nDataset Information:\")\n",
    "print(\"Shape of Training Data:\", X_train.shape)\n",
    "print(\"Shape of Training Labels:\", y_train.shape)\n",
    "print(\"Shape of Test Data:\", X_test.shape)\n",
    "print(\"Shape of Test Labels:\", y_test.shape)\n",
    "print(\"Shape of Each Image: \", X_test[0].shape)\n",
    "\n",
    "display_images(X_train, y_train, 10)"
   ]
  },
  {
   "cell_type": "code",
   "execution_count": 4,
   "id": "0e193f69",
   "metadata": {},
   "outputs": [
    {
     "name": "stdout",
     "output_type": "stream",
     "text": [
      "Dataset Information after Hot Encoded:\n",
      "Shape of Training Data: (60000, 28, 28)\n",
      "Shape of Training Labels: (60000, 10)\n",
      "Shape of Test Data: (10000, 28, 28)\n",
      "Shape of Test Labels: (10000, 10)\n",
      "Shape of Each Image:  (28, 28)\n"
     ]
    }
   ],
   "source": [
    "# Function to one hot encode the label\n",
    "def one_hot_encode(y):\n",
    "    \n",
    "    n_classes = 10  \n",
    "    \n",
    "    y_encoded = np.zeros((len(y), n_classes))\n",
    "    \n",
    "    for i, label in enumerate(y):\n",
    "        y_encoded[i, label] = 1\n",
    "        \n",
    "    return y_encoded\n",
    "    \n",
    "# Hot Encoding the labels\n",
    "y_train = one_hot_encode(y_train)\n",
    "y_test = one_hot_encode(y_test)\n",
    "\n",
    "print (\"Dataset Information after Hot Encoded:\")\n",
    "print(\"Shape of Training Data:\", X_train.shape)\n",
    "print(\"Shape of Training Labels:\", y_train.shape)\n",
    "print(\"Shape of Test Data:\", X_test.shape)\n",
    "print(\"Shape of Test Labels:\", y_test.shape)\n",
    "print(\"Shape of Each Image: \", X_test[0].shape)"
   ]
  },
  {
   "cell_type": "markdown",
   "id": "1f5e3832-f617-4c3c-bed3-8060b1df06d1",
   "metadata": {},
   "source": [
    "# Convolutional Layer"
   ]
  },
  {
   "cell_type": "code",
   "execution_count": 5,
   "id": "577de0ad-ba09-4260-8997-a25ca7e1c9cc",
   "metadata": {},
   "outputs": [],
   "source": [
    "# Implementation of the convolution Layer\n",
    "\n",
    "# For forward propagation: \n",
    "# Two kernels: 3 x 3 with a bias  ----> 26 x 26 x 2 Feature Maps\n",
    "\n",
    "class ConvolutionLayer:\n",
    "    def __init__(self, num_kernels=2, kernel_size=3):\n",
    "        # Initialize the convolutional layer with the number of kernels and kernel size\n",
    "        self.num_kernels = num_kernels\n",
    "        self.kernel_size = kernel_size\n",
    "        \n",
    "        self.prev_input = None  # Initialize previous input matrix as None\n",
    "        self.kernels = np.random.randn(num_kernels, kernel_size, kernel_size)  # Initialize kernels with random values\n",
    "\n",
    "    def convolve(self, input_matrix, kernel):\n",
    "        # Perform convolution operation between input matrix and kernel\n",
    "        kernel_height, kernel_width = kernel.shape\n",
    "        output_height = input_matrix.shape[0] - kernel_height + 1\n",
    "        output_width = input_matrix.shape[1] - kernel_width + 1\n",
    "        \n",
    "        output_matrix = np.zeros((output_height, output_width))\n",
    "        \n",
    "        for i in range(output_height):\n",
    "            for j in range(output_width):\n",
    "                output_matrix[i, j] = np.sum(input_matrix[i:i+kernel_height, j:j+kernel_width] * kernel)\n",
    "                \n",
    "        return output_matrix\n",
    "\n",
    "    def forward_propagation(self, input_matrix):\n",
    "        # Perform forward propagation for the convolutional layer\n",
    "        \n",
    "        self.prev_input = input_matrix  # Remember the input matrix for backpropagation\n",
    "        \n",
    "        output_height = input_matrix.shape[0] - self.kernel_size + 1\n",
    "        output_width = input_matrix.shape[1] - self.kernel_size + 1\n",
    "        \n",
    "        convolution_output = np.zeros((output_height, output_width, self.num_kernels))\n",
    "        \n",
    "        for i in range(self.num_kernels):\n",
    "            convolved = self.convolve(input_matrix, self.kernels[i])\n",
    "            \n",
    "            for hi in range(output_height):\n",
    "                for wi in range(output_width):\n",
    "                    convolution_output[hi, wi, i] = convolved[hi, wi]\n",
    "                    \n",
    "        return convolution_output\n",
    "\n",
    "    def backward_propagation(self, d_output, learning_rate):\n",
    "        # Perform backward propagation for the convolutional layer\n",
    "        \n",
    "        d_kernels = np.zeros(self.kernels.shape)\n",
    "        \n",
    "        for i in range(self.num_kernels):\n",
    "            d_kernels[i] = self.convolve(self.prev_input, d_output[:, :, i])\n",
    "\n",
    "        self.kernels -= learning_rate * d_kernels  # Update kernels based on learning rate and gradients\n",
    "        \n",
    "        return None\n"
   ]
  },
  {
   "cell_type": "code",
   "execution_count": 6,
   "id": "812d99a8-1f59-445b-90ab-3eb22032cd8a",
   "metadata": {},
   "outputs": [],
   "source": [
    "#Display Feature Map\n",
    "def display_feature_map(feature_maps, num_maps = 2):\n",
    "\n",
    "    num_columns = num_maps\n",
    "    num_rows = 1\n",
    "\n",
    "    plt.figure(figsize=(num_columns * 2, num_rows * 2))\n",
    "\n",
    "    for i in range(num_maps):\n",
    "        plt.subplot(num_rows, num_columns, i + 1)\n",
    "        plt.imshow(feature_maps[:, :, i], cmap='gray')\n",
    "        plt.xlabel(f'Filter {i+1}')\n",
    "\n",
    "    plt.show()"
   ]
  },
  {
   "cell_type": "markdown",
   "id": "60b82a83-0250-4bd7-855f-598641bc5380",
   "metadata": {},
   "source": [
    "# Average Pooling Layer"
   ]
  },
  {
   "cell_type": "code",
   "execution_count": 7,
   "id": "d6c578e6-bb98-4dcf-8d0a-0320320434d5",
   "metadata": {},
   "outputs": [],
   "source": [
    "# Implementation of Average Pooling layer\n",
    "\n",
    "# For forward propagation:\n",
    "# Input : Feature Map (26 x 26 x 2)\n",
    "# Average pool (size 2 x 2, stride = 2)\n",
    "\n",
    "# Output dimension: (n - f + 2 * padding)/stride + 1 = 13 x 13 x 2 (Since there is no padding)\n",
    "\n",
    "class AveragePoolingLayer:\n",
    "    def __init__(self, pool_size=2):\n",
    "        # Initialize the average pooling layer with the pool size\n",
    "        self.pool_size = pool_size\n",
    "        self.prev_input = None  # Initialize previous input matrix as None\n",
    "\n",
    "    def forward_propagation(self, input_matrix):\n",
    "        # Perform forward propagation for average pooling\n",
    "        \n",
    "        # Remember the input matrix for use in backpropagation\n",
    "        self.prev_input = input_matrix\n",
    "        \n",
    "        m, n, o = input_matrix.shape\n",
    "        # Initialize the output matrix\n",
    "        output_matrix = np.zeros((int(m / self.pool_size), int(n / self.pool_size), o))\n",
    "        \n",
    "        # Apply average pooling\n",
    "        for i in range(0, m, self.pool_size):\n",
    "            for j in range(0, n, self.pool_size):\n",
    "                # Take the mean of the pool size\n",
    "                output_matrix[int(i / self.pool_size), int(j / self.pool_size)] = np.mean(input_matrix[i:i + self.pool_size, j:j + self.pool_size], axis=(0, 1))\n",
    "        \n",
    "        return output_matrix\n",
    "\n",
    "    def backward_propagation(self, d_output):\n",
    "        # Perform backward propagation for average pooling\n",
    "        \n",
    "        # Initialize the output matrix for gradients\n",
    "        output_matrix = np.zeros(self.prev_input.shape)\n",
    "        \n",
    "        for i in range(0, output_matrix.shape[0], self.pool_size):\n",
    "            for j in range(0, output_matrix.shape[1], self.pool_size):\n",
    "                for k in range(self.pool_size):\n",
    "                    for l in range(self.pool_size):\n",
    "                        \n",
    "                        # Upscale the gradients\n",
    "                        output_matrix[i + k, j + l] = d_output[int(i / self.pool_size), int(j / self.pool_size)] / (self.pool_size * self.pool_size)\n",
    "        \n",
    "        return output_matrix\n"
   ]
  },
  {
   "cell_type": "markdown",
   "id": "3a96a86f-54bd-4264-819b-f86d6af2fd9b",
   "metadata": {},
   "source": [
    "# Fully Connected Layer\n",
    "\n",
    "#### Since the data is `flattened`, the 1 x 1 convolution changes to fully connected layer"
   ]
  },
  {
   "cell_type": "code",
   "execution_count": 8,
   "id": "f11c730c-8726-4eb9-887e-fff335752b2c",
   "metadata": {},
   "outputs": [],
   "source": [
    "# Flattening Layer in the network\n",
    "\n",
    "# For Forward Propagation:\n",
    "# Input: 13 x 13 x 2 image from average pooling\n",
    "# Apply Flattening\n",
    "# Ouput : Vector of size 338 x 1\n",
    "\n",
    "# Then, Fully Connected layer (since the data is flattened, the 1 x 1 convolution changes to fully connected layer)\n",
    "\n",
    "class FullyConnectedLayer:\n",
    "    def __init__(self, input_neurons, output_neurons):\n",
    "        \n",
    "        # Initialize weights for each neuron in the flattened layer using He initialization\n",
    "        self.weights = np.random.randn(input_neurons, output_neurons) * np.sqrt(2 / input_neurons)\n",
    "        self.biases = np.zeros(output_neurons)\n",
    "        \n",
    "        self.input_shape = None\n",
    "        self.last_input = None\n",
    "\n",
    "    def forward_propagation(self, input_layer):\n",
    "        # Store shape for backpropagation\n",
    "        self.input_shape = input_layer.shape\n",
    "        \n",
    "        input_layer_flat = input_layer.flatten()\n",
    "        \n",
    "        self.last_input = input_layer_flat\n",
    "        \n",
    "        return np.dot(input_layer_flat, self.weights) + self.biases\n",
    "\n",
    "    def backward_propagation(self, d_output, learning_rate):\n",
    "        # d_output is a vector of shape (output_neurons,)\n",
    "        output_matrix = np.dot(d_output, self.weights.T).reshape(self.input_shape)\n",
    "        \n",
    "        d_weights = np.dot(self.last_input.reshape(-1, 1), d_output.reshape(1, -1))\n",
    "        d_biases = d_output\n",
    "\n",
    "        # Update weights and biases\n",
    "        self.weights -= learning_rate * d_weights\n",
    "        self.biases -= learning_rate * d_biases\n",
    "        \n",
    "        return output_matrix"
   ]
  },
  {
   "cell_type": "markdown",
   "id": "b1cc074c-039b-437a-9e3b-bb18c3799bf8",
   "metadata": {},
   "source": [
    "# Convolutional Neural Network"
   ]
  },
  {
   "cell_type": "code",
   "execution_count": 9,
   "id": "56b71d17-9258-4b5b-b1b8-420d3c871603",
   "metadata": {},
   "outputs": [],
   "source": [
    "# This class implements a Convolutional Neural Network (CNN) for image classification tasks. \n",
    "\n",
    "# Methods:\n",
    "# forward: Perform forward propagation through the network.\n",
    "# backward: Perform backward propagation through the network.\n",
    "# train: Train the model on the given data.\n",
    "# test: Evaluate the model on the test data.\n",
    "\n",
    "class CNN:\n",
    "    def __init__(self, activation_function='sigmoid'):\n",
    "        # Initialize layers\n",
    "        self.conv1 = ConvolutionLayer()\n",
    "        self.pool1 = AveragePoolingLayer()\n",
    "        self.fc1 = FullyConnectedLayer(13 * 13 * 2, 10)\n",
    "        self.last_conv_activation = None\n",
    "        self.activation_function = None\n",
    "        self.activation_function_derivative = None\n",
    "\n",
    "        # Define activation functions based on the given activation_function name\n",
    "        # (Taken from Assignment 5, Neural Network)\n",
    "        if activation_function == 'relu':\n",
    "            self.activation_function = self.relu\n",
    "            self.activation_function_derivative = self.relu_derivative\n",
    "            \n",
    "        elif activation_function == 'sigmoid':\n",
    "            self.activation_function = self.sigmoid\n",
    "            self.activation_function_derivative = self.sigmoid_derivative\n",
    "            \n",
    "        elif activation_function == 'tanh':\n",
    "            self.activation_function = self.tanh\n",
    "            self.activation_function_derivative = self.tanh_derivative\n",
    "\n",
    "    # Activation functions and their derivatives\n",
    "    def sigmoid(self, x):\n",
    "        return 1 / (1 + np.exp(-x))\n",
    "\n",
    "    def sigmoid_derivative(self, x):\n",
    "        return self.sigmoid(x) * (1 - self.sigmoid(x))\n",
    "\n",
    "    def relu(self, x):\n",
    "        return np.maximum(0, x)\n",
    "\n",
    "    def relu_derivative(self, x):\n",
    "        return np.where(x > 0, 1, 0)\n",
    "\n",
    "    def tanh(self, x):\n",
    "        return np.tanh(x)\n",
    "\n",
    "    def tanh_derivative(self, x):\n",
    "        return 1 - np.tanh(x) ** 2\n",
    "        \n",
    "    # Softmax function for output layer\n",
    "    def softmax(self, x):\n",
    "        exp_values = np.exp(x - np.max(x))\n",
    "        return exp_values / exp_values.sum(axis=-1, keepdims=True)\n",
    "\n",
    "    # Forward propagation\n",
    "    def forward(self, input_data):\n",
    "        \n",
    "        # Convolutional layer\n",
    "        layer_result = self.conv1.forward_propagation(input_data)\n",
    "        self.last_conv_activation = self.activation_function(layer_result)\n",
    "        \n",
    "        # Pooling layer\n",
    "        layer_result = self.pool1.forward_propagation(self.last_conv_activation)\n",
    "        \n",
    "        # Fully connected layer\n",
    "        layer_result = self.fc1.forward_propagation(layer_result)\n",
    "        \n",
    "        # Softmax activation for output\n",
    "        layer_result = self.softmax(layer_result)\n",
    "        return layer_result\n",
    "\n",
    "    # Backward propagation\n",
    "    def backward(self, loss_derivative, learning_rate):\n",
    "        \n",
    "        # Backpropagation through fully connected layer\n",
    "        loss_derivative = self.fc1.backward_propagation(loss_derivative, learning_rate)\n",
    "        \n",
    "        # Backpropagation through pooling layer\n",
    "        loss_derivative = self.pool1.backward_propagation(loss_derivative)\n",
    "        \n",
    "        # Backpropagation through activation function of the last convolutional layer\n",
    "        loss_derivative *= self.activation_function_derivative(self.last_conv_activation)\n",
    "        \n",
    "        # Backpropagation through convolutional layer\n",
    "        self.conv1.backward_propagation(loss_derivative, learning_rate)\n",
    "\n",
    "    # Training the model\n",
    "    def train(self, x_train, y_train, x_test, y_test, learning_rate, epochs):\n",
    "        for epoch in range(epochs):\n",
    "            loss = 0\n",
    "            accuracy = 0\n",
    "            for x, y in zip(x_train, y_train):\n",
    "                \n",
    "                # Forward pass\n",
    "                y_pred = self.forward(x)\n",
    "                \n",
    "                # Categorical cross-entropy loss\n",
    "                loss += -np.sum(y * np.log(y_pred))\n",
    "                \n",
    "                # Accuracy calculation\n",
    "                accuracy += np.argmax(y_pred) == np.argmax(y)\n",
    "                \n",
    "                # Calculate loss derivative\n",
    "                loss_derivative = y_pred - y\n",
    "                \n",
    "                # Backward pass\n",
    "                self.backward(loss_derivative, learning_rate)\n",
    "                \n",
    "            # Calculate average loss and accuracy for the epoch\n",
    "            loss /= len(x_train)\n",
    "            accuracy /= len(x_train)\n",
    "            \n",
    "            print(f'Epoch: {epoch + 1}, Train: Loss: {loss:.4f}, Accuracy: {accuracy:.4f} |', end=\" \")\n",
    "            \n",
    "            # Test the model on test data\n",
    "            self.test(x_test, y_test)\n",
    "\n",
    "    # Test the model\n",
    "    def test(self, x_test, y_test):\n",
    "        loss = 0\n",
    "        accuracy = 0\n",
    "        n = len(x_test)\n",
    "        \n",
    "        for x, y in zip(x_test, y_test):\n",
    "            \n",
    "            # Forward pass\n",
    "            y_pred = self.forward(x)\n",
    "            \n",
    "            # Categorical cross-entropy loss\n",
    "            loss += -np.sum(y * np.log(y_pred))\n",
    "            \n",
    "            # Accuracy calculation\n",
    "            accuracy += np.argmax(y_pred) == np.argmax(y)\n",
    "            \n",
    "        # Calculate average loss and accuracy for the test set\n",
    "        loss /= n\n",
    "        accuracy /= n\n",
    "        \n",
    "        print(f'Test: Loss: {loss:.4f}, Accuracy: {accuracy:.4f}')\n"
   ]
  },
  {
   "cell_type": "markdown",
   "id": "d317c4ba-7f97-4cb5-b4fa-3fa9ffda3c09",
   "metadata": {},
   "source": [
    "# Training and Testing Neural Network with different Activation Functions"
   ]
  },
  {
   "cell_type": "markdown",
   "id": "3e9d6915-0802-4955-b3cf-2f846255e64f",
   "metadata": {},
   "source": [
    "#### Sigmoid Activation Function"
   ]
  },
  {
   "cell_type": "code",
   "execution_count": 10,
   "id": "1f1a2ea8-1119-4123-b6cf-3eb42bbaf201",
   "metadata": {},
   "outputs": [
    {
     "name": "stdout",
     "output_type": "stream",
     "text": [
      "Epoch: 1, Train: Loss: 0.5667, Accuracy: 0.8455 | Test: Loss: 0.4381, Accuracy: 0.8602\n",
      "Epoch: 2, Train: Loss: 0.3947, Accuracy: 0.8838 | Test: Loss: 0.3980, Accuracy: 0.8757\n",
      "Epoch: 3, Train: Loss: 0.3716, Accuracy: 0.8888 | Test: Loss: 0.3812, Accuracy: 0.8807\n",
      "Epoch: 4, Train: Loss: 0.3601, Accuracy: 0.8921 | Test: Loss: 0.3716, Accuracy: 0.8843\n",
      "Epoch: 5, Train: Loss: 0.3529, Accuracy: 0.8946 | Test: Loss: 0.3653, Accuracy: 0.8867\n",
      "Epoch: 6, Train: Loss: 0.3479, Accuracy: 0.8961 | Test: Loss: 0.3608, Accuracy: 0.8880\n"
     ]
    }
   ],
   "source": [
    "cnn = CNN()\n",
    "\n",
    "cnn.train(X_train, y_train, X_test, y_test, learning_rate = 0.005, epochs = 6)"
   ]
  },
  {
   "cell_type": "markdown",
   "id": "b95ea212-8f8f-40ec-9ff7-ce36953776f6",
   "metadata": {},
   "source": [
    "#### ReLu Activation Function"
   ]
  },
  {
   "cell_type": "code",
   "execution_count": 11,
   "id": "35da022b-a937-4c45-83e2-8af1df5cdf9b",
   "metadata": {},
   "outputs": [
    {
     "name": "stdout",
     "output_type": "stream",
     "text": [
      "Epoch: 1, Train: Loss: 0.3661, Accuracy: 0.8931 | Test: Loss: 0.3102, Accuracy: 0.9064\n",
      "Epoch: 2, Train: Loss: 0.2911, Accuracy: 0.9176 | Test: Loss: 0.2856, Accuracy: 0.9143\n",
      "Epoch: 3, Train: Loss: 0.2457, Accuracy: 0.9303 | Test: Loss: 0.2078, Accuracy: 0.9384\n",
      "Epoch: 4, Train: Loss: 0.1823, Accuracy: 0.9469 | Test: Loss: 0.1637, Accuracy: 0.9517\n",
      "Epoch: 5, Train: Loss: 0.1557, Accuracy: 0.9547 | Test: Loss: 0.1485, Accuracy: 0.9554\n",
      "Epoch: 6, Train: Loss: 0.1437, Accuracy: 0.9577 | Test: Loss: 0.1404, Accuracy: 0.9579\n"
     ]
    }
   ],
   "source": [
    "cnn1 = CNN(activation_function = 'relu')\n",
    "\n",
    "cnn1.train(X_train, y_train, X_test, y_test, learning_rate = 0.005, epochs = 6)"
   ]
  },
  {
   "cell_type": "markdown",
   "id": "aa887569-6793-40aa-bbfa-cfb9d2c38bb0",
   "metadata": {},
   "source": [
    "#### Tanh Activation Function"
   ]
  },
  {
   "cell_type": "code",
   "execution_count": 12,
   "id": "ad8b482e-fdb9-4ef0-ae43-70935ecc7505",
   "metadata": {},
   "outputs": [
    {
     "name": "stdout",
     "output_type": "stream",
     "text": [
      "Epoch: 1, Train: Loss: 0.4431, Accuracy: 0.8698 | Test: Loss: 0.4130, Accuracy: 0.8697\n",
      "Epoch: 2, Train: Loss: 0.3667, Accuracy: 0.8896 | Test: Loss: 0.3918, Accuracy: 0.8788\n",
      "Epoch: 3, Train: Loss: 0.3561, Accuracy: 0.8925 | Test: Loss: 0.3833, Accuracy: 0.8819\n",
      "Epoch: 4, Train: Loss: 0.3508, Accuracy: 0.8943 | Test: Loss: 0.3791, Accuracy: 0.8835\n",
      "Epoch: 5, Train: Loss: 0.3474, Accuracy: 0.8953 | Test: Loss: 0.3767, Accuracy: 0.8847\n",
      "Epoch: 6, Train: Loss: 0.3449, Accuracy: 0.8963 | Test: Loss: 0.3752, Accuracy: 0.8852\n"
     ]
    }
   ],
   "source": [
    "cnn2 = CNN(activation_function = 'tanh')\n",
    "\n",
    "cnn2.train(X_train, y_train, X_test, y_test, learning_rate = 0.005, epochs = 6)"
   ]
  },
  {
   "cell_type": "markdown",
   "id": "e1d2f84d-9def-4127-8ff2-c08e7d06f947",
   "metadata": {},
   "source": [
    "# Some References"
   ]
  },
  {
   "cell_type": "markdown",
   "id": "6258b65f-2371-4654-8fc6-a2566fc30c9d",
   "metadata": {},
   "source": [
    "1. https://towardsdatascience.com/derivative-of-the-softmax-function-and-the-categorical-cross-entropy-loss-ffceefc081d1\n",
    "2. https://nordinzakaria.medium.com/backpropagation-in-cnn-a-mathematically-explicit-exposition-3f723f0ad9a0\n",
    "3. https://pavisj.medium.com/convolutions-and-backpropagations-46026a8f5d2c\n",
    "4. https://towardsdatascience.com/backpropagation-in-a-convolutional-layer-24c8d64d8509"
   ]
  },
  {
   "cell_type": "code",
   "execution_count": 14,
   "id": "ab983ca7-0514-43b2-a0f2-fc627fc0220b",
   "metadata": {},
   "outputs": [
    {
     "name": "stdout",
     "output_type": "stream",
     "text": [
      "Shape after convolution layer: (26, 26, 2)\n",
      "After convolution layer:\n"
     ]
    },
    {
     "data": {
      "image/png": "[encoded data removed]",
      "text/plain": [
       "<Figure size 400x200 with 2 Axes>"
      ]
     },
     "metadata": {},
     "output_type": "display_data"
    },
    {
     "name": "stdout",
     "output_type": "stream",
     "text": [
      "Shape after convolution layer: (13, 13, 2)\n",
      "After average pooling  layer:\n"
     ]
    },
    {
     "data": {
      "image/png": "[encoded data removed]",
      "text/plain": [
       "<Figure size 400x200 with 2 Axes>"
      ]
     },
     "metadata": {},
     "output_type": "display_data"
    }
   ],
   "source": [
    "# To check how the outputs are like after different layers\n",
    "\n",
    "conv_layer = ConvolutionLayer(num_kernels=2, kernel_size=3) \n",
    "output = conv_layer.forward_propagation(X_train[90])  # Forward pass\n",
    "print(\"Shape after convolution layer:\", output.shape)\n",
    "print (\"After convolution layer:\")\n",
    "display_feature_map(output, num_maps=2)\n",
    "\n",
    "\n",
    "\n",
    "pool_layer = AveragePoolingLayer()\n",
    "output1 = pool_layer.forward_propagation(output)\n",
    "print (\"Shape after convolution layer:\", output1.shape)\n",
    "print (\"After average pooling  layer:\")\n",
    "display_feature_map(output1, num_maps=2)"
   ]
  }
 ],
 "metadata": {
  "kernelspec": {
   "display_name": "Python 3 (ipykernel)",
   "language": "python",
   "name": "python3"
  },
  "language_info": {
   "codemirror_mode": {
    "name": "ipython",
    "version": 3
   },
   "file_extension": ".py",
   "mimetype": "text/x-python",
   "name": "python",
   "nbconvert_exporter": "python",
   "pygments_lexer": "ipython3",
   "version": "3.9.18"
  }
 },
 "nbformat": 4,
 "nbformat_minor": 5
}
